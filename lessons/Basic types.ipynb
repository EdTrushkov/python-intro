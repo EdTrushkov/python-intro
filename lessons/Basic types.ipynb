{
 "cells": [
  {
   "cell_type": "code",
   "execution_count": 1,
   "id": "bd8c1ef7",
   "metadata": {},
   "outputs": [
    {
     "name": "stdout",
     "output_type": "stream",
     "text": [
      "Hello\n",
      "World\n"
     ]
    }
   ],
   "source": [
    "print(\"Hello\")\n",
    "a = 1\n",
    "print(\"World\")"
   ]
  },
  {
   "cell_type": "code",
   "execution_count": 2,
   "id": "b0587cd9",
   "metadata": {},
   "outputs": [
    {
     "name": "stdout",
     "output_type": "stream",
     "text": [
      "3\n",
      "1\n",
      "4\n",
      "0.43000000000000016\n",
      "35\n",
      "12.649999999999999\n",
      "2.5\n",
      "2\n",
      "8\n",
      "2 4\n"
     ]
    }
   ],
   "source": [
    "print(1 + 2)\n",
    "print(2 - 1)\n",
    "print(5 - 1)\n",
    "print(3.14 - 2.71)\n",
    "print(5 * 7)\n",
    "print(5.5 * 2.3)\n",
    "print(5 / 2)\n",
    "print(2 + 3 * 4 - 12)\n",
    "print((2 + 3) * 4 - 12)\n",
    "print(5 // 2, 9 // 2)\n"
   ]
  },
  {
   "cell_type": "code",
   "execution_count": 3,
   "id": "9a3a26a4",
   "metadata": {},
   "outputs": [
    {
     "name": "stdout",
     "output_type": "stream",
     "text": [
      "3\n",
      "2\n"
     ]
    }
   ],
   "source": [
    "import math\n",
    "print(math.ceil(5 / 2))\n",
    "print(math.floor(5 / 2))"
   ]
  },
  {
   "cell_type": "code",
   "execution_count": 4,
   "id": "44a0baf8",
   "metadata": {},
   "outputs": [
    {
     "name": "stdout",
     "output_type": "stream",
     "text": [
      "        \n"
     ]
    }
   ],
   "source": [
    "print(\"        \")"
   ]
  },
  {
   "cell_type": "code",
   "execution_count": 5,
   "id": "d1e328d7",
   "metadata": {},
   "outputs": [
    {
     "name": "stdout",
     "output_type": "stream",
     "text": [
      "hello, world\n"
     ]
    }
   ],
   "source": [
    "print(\"hello\" + \", \" + \"world\")"
   ]
  },
  {
   "cell_type": "code",
   "execution_count": 6,
   "id": "f4cbcb07",
   "metadata": {},
   "outputs": [
    {
     "name": "stdout",
     "output_type": "stream",
     "text": [
      "Some \"text\" from book\n"
     ]
    }
   ],
   "source": [
    "print('Some \"text\" from book')"
   ]
  },
  {
   "cell_type": "code",
   "execution_count": 7,
   "id": "6ee48e1e",
   "metadata": {},
   "outputs": [
    {
     "name": "stdout",
     "output_type": "stream",
     "text": [
      "First line\n",
      "\tSecond line\n",
      "Third line\n"
     ]
    }
   ],
   "source": [
    "print(\"First line\\n\\tSecond line\\nThird line\")"
   ]
  },
  {
   "cell_type": "code",
   "execution_count": 8,
   "id": "84433913",
   "metadata": {},
   "outputs": [
    {
     "name": "stdout",
     "output_type": "stream",
     "text": [
      "e\n"
     ]
    }
   ],
   "source": [
    "print(\"Hello\"[1])"
   ]
  },
  {
   "cell_type": "code",
   "execution_count": 9,
   "id": "f1aadaf3",
   "metadata": {},
   "outputs": [
    {
     "name": "stdout",
     "output_type": "stream",
     "text": [
      "1\n",
      "Hello world\n"
     ]
    }
   ],
   "source": [
    "a = 1\n",
    "b = \"Hello world\"\n",
    "print(a)\n",
    "print(b)"
   ]
  },
  {
   "cell_type": "code",
   "execution_count": 10,
   "id": "7dc0bc53",
   "metadata": {},
   "outputs": [
    {
     "name": "stdout",
     "output_type": "stream",
     "text": [
      "1\n",
      "2\n",
      "Hello world\n",
      "Another text\n"
     ]
    }
   ],
   "source": [
    "print(a)\n",
    "a = 2\n",
    "print(a)\n",
    "print(b)\n",
    "b = \"Another text\"\n",
    "print(b)"
   ]
  },
  {
   "cell_type": "code",
   "execution_count": 11,
   "id": "beac7b90",
   "metadata": {},
   "outputs": [
    {
     "name": "stdout",
     "output_type": "stream",
     "text": [
      "some text\n"
     ]
    }
   ],
   "source": [
    "a = \"some text\"\n",
    "print(a)"
   ]
  },
  {
   "cell_type": "code",
   "execution_count": 12,
   "id": "e83e389e",
   "metadata": {},
   "outputs": [
    {
     "name": "stdout",
     "output_type": "stream",
     "text": [
      "3\n",
      "Some text Another text\n"
     ]
    }
   ],
   "source": [
    "a = 1\n",
    "b = 2\n",
    "print(a + b)\n",
    "a = \"Some text\"\n",
    "b = \"Another text\"\n",
    "print(a + \" \" + b)"
   ]
  },
  {
   "cell_type": "code",
   "execution_count": 13,
   "id": "9375c38c",
   "metadata": {},
   "outputs": [
    {
     "name": "stdout",
     "output_type": "stream",
     "text": [
      "1 text\n"
     ]
    }
   ],
   "source": [
    "a = 1\n",
    "b = \"text\"\n",
    "print(a, b)"
   ]
  },
  {
   "cell_type": "code",
   "execution_count": 14,
   "id": "67ab771d",
   "metadata": {},
   "outputs": [
    {
     "name": "stdout",
     "output_type": "stream",
     "text": [
      "text LITERAL\n",
      "5.140000000000001\n"
     ]
    }
   ],
   "source": [
    "print(b + \" \" + \"LITERAL\")\n",
    "print(a + 1 + 3.14)"
   ]
  },
  {
   "cell_type": "code",
   "execution_count": 15,
   "id": "8d14cc88",
   "metadata": {},
   "outputs": [
    {
     "name": "stdout",
     "output_type": "stream",
     "text": [
      "3.141592653589793\n"
     ]
    }
   ],
   "source": [
    "print(math.pi)"
   ]
  },
  {
   "cell_type": "code",
   "execution_count": 16,
   "id": "bbeb5a43",
   "metadata": {},
   "outputs": [],
   "source": [
    "number = 1\n",
    "text = \"Some text\"\n",
    "word = \"sun\"\n",
    "PI = 3.14"
   ]
  },
  {
   "cell_type": "code",
   "execution_count": 18,
   "id": "a56da60d",
   "metadata": {},
   "outputs": [
    {
     "name": "stdout",
     "output_type": "stream",
     "text": [
      "hello\n",
      "INPUT: hello\n"
     ]
    }
   ],
   "source": [
    "a = input()\n",
    "print(\"INPUT: \" + a)"
   ]
  },
  {
   "cell_type": "code",
   "execution_count": null,
   "id": "2bb41623",
   "metadata": {},
   "outputs": [],
   "source": []
  }
 ],
 "metadata": {
  "kernelspec": {
   "display_name": "Python 3 (ipykernel)",
   "language": "python",
   "name": "python3"
  },
  "language_info": {
   "codemirror_mode": {
    "name": "ipython",
    "version": 3
   },
   "file_extension": ".py",
   "mimetype": "text/x-python",
   "name": "python",
   "nbconvert_exporter": "python",
   "pygments_lexer": "ipython3",
   "version": "3.8.5"
  }
 },
 "nbformat": 4,
 "nbformat_minor": 5
}